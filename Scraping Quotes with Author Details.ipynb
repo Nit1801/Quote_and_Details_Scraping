{
 "cells": [
  {
   "cell_type": "code",
   "execution_count": 1,
   "id": "37971ecb",
   "metadata": {},
   "outputs": [],
   "source": [
    "import requests\n",
    "import pandas as pd\n",
    "from tqdm import tqdm\n",
    "from bs4 import BeautifulSoup"
   ]
  },
  {
   "cell_type": "code",
   "execution_count": 2,
   "id": "94030714",
   "metadata": {},
   "outputs": [],
   "source": [
    "res = requests.get('http://quotes.toscrape.com/')\n",
    "\n",
    "soup = BeautifulSoup(res.text, 'html.parser')"
   ]
  },
  {
   "cell_type": "code",
   "execution_count": 3,
   "id": "ceffb506",
   "metadata": {},
   "outputs": [],
   "source": [
    "data = []\n",
    "\n",
    "for sp in soup.find_all('div', class_ = 'quote'):\n",
    "    quote     = sp.find('span', class_ ='text').text[1:-1]\n",
    "    author    = sp.find('small',class_ = 'author').text\n",
    "    author_id = sp.find('a').get('href')\n",
    "    tags = []\n",
    "    for tag in sp.find_all('a',class_ = 'tag'):\n",
    "        tags.append(tag.text)\n",
    "    tags      = ','.join(tags)\n",
    "    \n",
    "    data.append([quote,author,author_id,tags])"
   ]
  },
  {
   "cell_type": "code",
   "execution_count": 4,
   "id": "3eb82b8e",
   "metadata": {},
   "outputs": [],
   "source": [
    "df= pd.DataFrame(data, columns = ['quote','author','author_id','tags'])"
   ]
  },
  {
   "cell_type": "code",
   "execution_count": 5,
   "id": "1b0a3d3e",
   "metadata": {},
   "outputs": [],
   "source": [
    "df.to_csv('Quotes.csv', index = False)"
   ]
  }
 ],
 "metadata": {
  "kernelspec": {
   "display_name": "Python 3 (ipykernel)",
   "language": "python",
   "name": "python3"
  },
  "language_info": {
   "codemirror_mode": {
    "name": "ipython",
    "version": 3
   },
   "file_extension": ".py",
   "mimetype": "text/x-python",
   "name": "python",
   "nbconvert_exporter": "python",
   "pygments_lexer": "ipython3",
   "version": "3.11.7"
  }
 },
 "nbformat": 4,
 "nbformat_minor": 5
}
