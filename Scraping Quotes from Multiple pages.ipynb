{
 "cells": [
  {
   "cell_type": "code",
   "execution_count": 1,
   "id": "feda0c27",
   "metadata": {},
   "outputs": [],
   "source": [
    "import requests\n",
    "import pandas as pd\n",
    "from tqdm import tqdm\n",
    "from bs4 import BeautifulSoup"
   ]
  },
  {
   "cell_type": "code",
   "execution_count": 2,
   "id": "d9e56909",
   "metadata": {},
   "outputs": [
    {
     "name": "stderr",
     "output_type": "stream",
     "text": [
      "100%|██████████| 10/10 [00:11<00:00,  1.12s/it]\n"
     ]
    }
   ],
   "source": [
    "data = []\n",
    "\n",
    "for page in tqdm(range(1,11)):\n",
    "    link = 'http://quotes.toscrape.com/page/' + str(page)\n",
    "    res = requests.get(link)\n",
    "    soup = BeautifulSoup(res.text, 'html.parser')\n",
    "    for sp in soup.find_all('div', class_ = 'quote'):\n",
    "        quote     = sp.find('span', class_ ='text').text[1:-1]\n",
    "        author    = sp.find('small',class_ = 'author').text\n",
    "        author_id = sp.find('a').get('href')\n",
    "        tags = []\n",
    "        for tag in sp.find_all('a',class_ = 'tag'):\n",
    "            tags.append(tag.text)\n",
    "        tags      = ','.join(tags)\n",
    "    \n",
    "        data.append([quote,author,author_id,tags])"
   ]
  },
  {
   "cell_type": "code",
   "execution_count": 3,
   "id": "a3e6b082",
   "metadata": {},
   "outputs": [],
   "source": [
    "df = pd.DataFrame(data, columns = ['quote','author','author_id','tags'])"
   ]
  },
  {
   "cell_type": "code",
   "execution_count": 4,
   "id": "47df6cc3",
   "metadata": {},
   "outputs": [],
   "source": [
    "df['author_link'] = 'http://quotes.toscrape.com' + df['author_id']"
   ]
  },
  {
   "cell_type": "code",
   "execution_count": 5,
   "id": "6c7dbcd1",
   "metadata": {},
   "outputs": [],
   "source": [
    "df.to_csv('AllQuotes.csv', index = False)"
   ]
  },
  {
   "cell_type": "code",
   "execution_count": null,
   "id": "b189be34",
   "metadata": {},
   "outputs": [],
   "source": []
  }
 ],
 "metadata": {
  "kernelspec": {
   "display_name": "Python 3 (ipykernel)",
   "language": "python",
   "name": "python3"
  },
  "language_info": {
   "codemirror_mode": {
    "name": "ipython",
    "version": 3
   },
   "file_extension": ".py",
   "mimetype": "text/x-python",
   "name": "python",
   "nbconvert_exporter": "python",
   "pygments_lexer": "ipython3",
   "version": "3.11.7"
  }
 },
 "nbformat": 4,
 "nbformat_minor": 5
}
